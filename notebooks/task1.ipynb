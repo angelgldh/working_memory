{
  "cells": [
    {
      "cell_type": "markdown",
      "metadata": {
        "id": "X_mBY0JykEZm"
      },
      "source": [
        "## Task 1. Default Delay-Match-To-Sample (DMTS):\n",
        "A sample image is presented and then, after a time delay of arbitrary duration, a test image is presented. The\n",
        "goal is to evaluate the model's ability to retain the sample image in working memory during the delay period\n",
        "and compare it to the test image. To titrate difficulty, the similarity between sample and test images can be\n",
        "varied, and the model's invariance to image transformations and zero-shot generalization ability will also be\n",
        "evaluated.\n"
      ]
    },
    {
      "cell_type": "markdown",
      "metadata": {
        "id": "3zbFEKlZkEZo"
      },
      "source": [
        "## Load packages etc"
      ]
    },
    {
      "cell_type": "code",
      "execution_count": 2,
      "metadata": {
        "id": "7cBwO-VJkEZp"
      },
      "outputs": [],
      "source": [
        "import tarfile\n",
        "import os\n",
        "import pickle\n",
        "import numpy as np\n",
        "import matplotlib.pyplot as plt\n",
        "import torch\n",
        "import torch.nn as nn\n",
        "import torch.nn.functional as F\n",
        "import numpy as np\n",
        "import torch\n",
        "from torch.utils.data import Dataset, DataLoader\n",
        "from torchvision import transforms\n",
        "import random\n",
        "import torch.optim as optim\n",
        "import torch.nn as nn\n",
        "import tqdm as tqdm"
      ]
    },
    {
      "cell_type": "markdown",
      "metadata": {
        "id": "rKdc7kvckEZq"
      },
      "source": [
        "## 1. Loading of images\n"
      ]
    },
    {
      "cell_type": "code",
      "execution_count": 3,
      "metadata": {
        "id": "CleF3He2kEZq"
      },
      "outputs": [],
      "source": [
        "def load_cifar10_batch(file):\n",
        "    with open(file, 'rb') as fo:\n",
        "        dict = pickle.load(fo, encoding='bytes')\n",
        "    return dict[b'data'], dict[b'labels']\n",
        "def show_image(one_image):\n",
        "    # Reshape the array to 32x32x3\n",
        "    image = one_image.reshape(3, 32, 32).transpose(1, 2, 0)\n",
        "    plt.imshow(image)\n",
        "    plt.show()\n",
        "def show_sequence(sequence, label):\n",
        "    # sequence shape: [sequence_length, channels, height, width]\n",
        "    # label shape: [1]\n",
        "\n",
        "    fig, axs = plt.subplots(1, len(sequence), figsize=(15, 3))  # Adjust figsize as needed\n",
        "    for i, img in enumerate(sequence):\n",
        "        img = img.transpose(0, 2).transpose(0, 1)  # Convert to [height, width, channels]\n",
        "        axs[i].imshow(img)\n",
        "        axs[i].axis('off')  # Turn off axis\n",
        "\n",
        "    plt.suptitle(f'Label: {label.item()}')\n",
        "    plt.show()\n"
      ]
    },
    {
      "cell_type": "code",
      "execution_count": null,
      "metadata": {
        "id": "LGwpTOdzkEZq"
      },
      "outputs": [],
      "source": [
        "raw_data = os.getcwd() + '/data/raw'\n",
        "processed_data = os.getcwd() + '/data/processed'\n",
        "\n",
        "# Unload the data into a target folder\n",
        "with tarfile.open(raw_data + '/''cifar-10-python.tar.gz', 'r:gz') as tar:\n",
        "    tar.extractall(path=processed_data)\n"
      ]
    },
    {
      "cell_type": "code",
      "execution_count": 4,
      "metadata": {
        "id": "QjkA51mRkEZr"
      },
      "outputs": [],
      "source": [
        "# Iterate and load through all 6 batches, including the test data\n",
        "raw_data = os.getcwd() + '/data/raw'\n",
        "processed_data = os.getcwd() + '/data/processed'\n",
        "training_images_cifar10 = {k: None for k in range(1,6)}\n",
        "training_labels_cifar10 = {k: None for k in range(1,6)}\n",
        "\n",
        "for ii in range(1,6):\n",
        "    data, labels = load_cifar10_batch(processed_data + '/cifar-10-batches-py/data_batch_' + str(ii))\n",
        "    training_images_cifar10[ii] = data\n",
        "    training_labels_cifar10[ii] = labels\n",
        "\n",
        "# Load the test data\n",
        "valid_images_cifar10, valid_labels_cifar10 = load_cifar10_batch(processed_data + '/cifar-10-batches-py/test_batch')\n",
        "\n",
        "# Stack all the training data to have more data accessible\n",
        "all_training_images_cifar10 = np.vstack([batch for batch in training_images_cifar10.values()])\n",
        "all_training_labels_cifar10 = np.hstack([batch for batch in training_labels_cifar10.values()])"
      ]
    },
    {
      "cell_type": "code",
      "execution_count": 7,
      "metadata": {
        "id": "X08Qeos8kEZr",
        "outputId": "af4e251a-f6d8-480c-fcbd-c0af359c59b7",
        "colab": {
          "base_uri": "https://localhost:8080/",
          "height": 1000
        }
      },
      "outputs": [
        {
          "output_type": "display_data",
          "data": {
            "text/plain": [
              "<Figure size 640x480 with 1 Axes>"
            ],
            "image/png": "[encoded data removed]"
          },
          "metadata": {}
        },
        {
          "output_type": "display_data",
          "data": {
            "text/plain": [
              "<Figure size 640x480 with 1 Axes>"
            ],
            "image/png": "[encoded data removed]"
          },
          "metadata": {}
        },
        {
          "output_type": "display_data",
          "data": {
            "text/plain": [
              "<Figure size 640x480 with 1 Axes>"
            ],
            "image/png": "[encoded data removed]"
          },
          "metadata": {}
        }
      ],
      "source": [
        "# Show an example of how the data looks like oka\n",
        "show_image(all_training_images_cifar10[1011])\n",
        "show_image(all_training_images_cifar10[51])\n",
        "show_image(all_training_images_cifar10[7])"
      ]
    },
    {
      "cell_type": "markdown",
      "metadata": {
        "id": "nMlIged2kEZs"
      },
      "source": [
        "### Prepare the data for the DMTS task\n",
        "\n",
        "The task needs to recognize if the sample and test image are the same. To this end, we need to preprocess and prepare our data."
      ]
    },
    {
      "cell_type": "code",
      "execution_count": 5,
      "metadata": {
        "id": "QW8jnsB0kEZs"
      },
      "outputs": [],
      "source": [
        "class DMTSCIFAR10Dataset(Dataset):\n",
        "    def __init__(self, data, labels, num_classes=10, delay_length=5, p=0.5, transform=None):\n",
        "        # Initialize the dataset with CIFAR-10 data, labels, and transformation\n",
        "        self.data = data\n",
        "        self.labels = labels\n",
        "        self.num_classes = num_classes\n",
        "        self.delay_length = delay_length\n",
        "        self.p = p\n",
        "        self.transform = transform or transforms.ToTensor()\n",
        "        self.empty_image = np.zeros((3, 32, 32), dtype=np.uint8)\n",
        "\n",
        "    def __len__(self):\n",
        "        # Length of the dataset is the number of images in CIFAR-10\n",
        "        return len(self.labels)\n",
        "\n",
        "    def __getitem__(self, idx):\n",
        "        # Randomly choose whether the test image matches the sample\n",
        "        match = random.random() < self.p\n",
        "        sample_image = self.data[idx]\n",
        "        sample_label = self.labels[idx]\n",
        "\n",
        "        if match:\n",
        "            # Choose the same image for the sample and test\n",
        "            test_image = sample_image\n",
        "        else:\n",
        "            # Choose a different class for the test image\n",
        "            different_class_images = [(img, lbl) for img, lbl in zip(self.data, self.labels) if lbl != sample_label]\n",
        "            test_image, _ = random.choice(different_class_images)\n",
        "\n",
        "        # Reshape and transforam each image\n",
        "        sample_image = self.transform(sample_image.reshape(3, 32, 32).transpose(1, 2, 0)) # (C, H, W)\n",
        "        test_image = self.transform(test_image.reshape(3, 32, 32).transpose(1, 2, 0)) # (C, H, W)\n",
        "        delay_images = [self.transform(self.empty_image.transpose(1, 2, 0)) for _ in range(self.delay_length)] # (C, H, W)\n",
        "\n",
        "        # Stack the sequence [sample_image] + delay_images + [test_image]\n",
        "        sequence = torch.stack([sample_image] + delay_images + [test_image], dim=0)  # Stack along a new axis\n",
        "\n",
        "        # Label is 1 if images match, 0 otherwise\n",
        "        label = torch.tensor([float(match)], dtype=torch.float32)\n",
        "\n",
        "        return sequence, label"
      ]
    },
    {
      "cell_type": "code",
      "execution_count": 6,
      "metadata": {
        "id": "zAYBLRrZkEZs",
        "outputId": "d865320d-426c-44ff-a095-77d6b5d4be8f",
        "colab": {
          "base_uri": "https://localhost:8080/"
        }
      },
      "outputs": [
        {
          "output_type": "stream",
          "name": "stdout",
          "text": [
            "torch.Size([32, 7, 3, 32, 32])\n",
            "torch.Size([32, 1])\n",
            "torch.Size([32, 7, 3, 32, 32])\n",
            "torch.Size([32, 1])\n",
            "torch.Size([32, 7, 3, 32, 32])\n",
            "torch.Size([32, 1])\n",
            "torch.Size([32, 7, 3, 32, 32])\n",
            "torch.Size([32, 1])\n",
            "torch.Size([32, 7, 3, 32, 32])\n",
            "torch.Size([32, 1])\n",
            "torch.Size([32, 7, 3, 32, 32])\n",
            "torch.Size([32, 1])\n"
          ]
        }
      ],
      "source": [
        "dmts_dataset_training = DMTSCIFAR10Dataset(data=training_images_cifar10[1], labels=training_labels_cifar10[1],\n",
        "                                p = 0.5, delay_length = 5)\n",
        "\n",
        "dmts_loader_training = DataLoader(dmts_dataset_training, batch_size=32, shuffle=True)\n",
        "\n",
        "# Let's make a quick check to see if the data has been correctly formated\n",
        "count = 0\n",
        "limit = 5\n",
        "for sequence, label in dmts_loader_training:\n",
        "    print(sequence.shape)  # Should be [batch_size, sequence_length, channels, height, width]\n",
        "                           # i.e. [batch_size, delay_length + 2, 3, 32, 32]\n",
        "    print(label.shape)     # Should be [batch_size, 1]\n",
        "    count+=1\n",
        "    if count > limit:\n",
        "        break  # Just to print the first batch's shapes"
      ]
    },
    {
      "cell_type": "markdown",
      "metadata": {
        "id": "rhUV9R4HkEZt"
      },
      "source": [
        "Now that the data is loaded in the correct format, let us plot it to see what is going to be fed into the model architecture"
      ]
    },
    {
      "cell_type": "code",
      "execution_count": 7,
      "metadata": {
        "id": "XuBjV8aHkEZt",
        "outputId": "51d01907-2426-40a1-bb6d-4aafcc382aba",
        "colab": {
          "base_uri": "https://localhost:8080/",
          "height": 872
        }
      },
      "outputs": [
        {
          "output_type": "display_data",
          "data": {
            "text/plain": [
              "<Figure size 1500x300 with 7 Axes>"
            ],
            "image/png": "[encoded data removed]"
          },
          "metadata": {}
        },
        {
          "output_type": "display_data",
          "data": {
            "text/plain": [
              "<Figure size 1500x300 with 7 Axes>"
            ],
            "image/png": "[encoded data removed]"
          },
          "metadata": {}
        },
        {
          "output_type": "display_data",
          "data": {
            "text/plain": [
              "<Figure size 1500x300 with 7 Axes>"
            ],
            "image/png": "[encoded data removed]"
          },
          "metadata": {}
        },
        {
          "output_type": "display_data",
          "data": {
            "text/plain": [
              "<Figure size 1500x300 with 7 Axes>"
            ],
            "image/png": "[encoded data removed]"
          },
          "metadata": {}
        },
        {
          "output_type": "display_data",
          "data": {
            "text/plain": [
              "<Figure size 1500x300 with 7 Axes>"
            ],
            "image/png": "[encoded data removed]"
          },
          "metadata": {}
        }
      ],
      "source": [
        "n_images_to_show = 5\n",
        "for sequences, labels in dmts_loader_training:\n",
        "    for i in range(n_images_to_show):\n",
        "        show_sequence(sequences[i], labels[i])\n",
        "    break  # Only process the first batch"
      ]
    },
    {
      "cell_type": "code",
      "execution_count": 16,
      "metadata": {
        "id": "KOFomaD3kEZt",
        "outputId": "14e1fce6-a4f7-43d6-9d09-df1cbb35c578",
        "colab": {
          "base_uri": "https://localhost:8080/",
          "height": 872
        }
      },
      "outputs": [
        {
          "output_type": "display_data",
          "data": {
            "text/plain": [
              "<Figure size 1500x300 with 7 Axes>"
            ],
            "image/png": "[encoded data removed]"
          },
          "metadata": {}
        },
        {
          "output_type": "display_data",
          "data": {
            "text/plain": [
              "<Figure size 1500x300 with 7 Axes>"
            ],
            "image/png": "[encoded data removed]"
          },
          "metadata": {}
        },
        {
          "output_type": "display_data",
          "data": {
            "text/plain": [
              "<Figure size 1500x300 with 7 Axes>"
            ],
            "image/png": "[encoded data removed]"
          },
          "metadata": {}
        },
        {
          "output_type": "display_data",
          "data": {
            "text/plain": [
              "<Figure size 1500x300 with 7 Axes>"
            ],
            "image/png": "[encoded data removed]"
          },
          "metadata": {}
        },
        {
          "output_type": "display_data",
          "data": {
            "text/plain": [
              "<Figure size 1500x300 with 7 Axes>"
            ],
            "image/png": "[encoded data removed]"
          },
          "metadata": {}
        }
      ],
      "source": [
        "# Now produce the images for the validation set as well\n",
        "dmts_dataset_valid = DMTSCIFAR10Dataset(data=valid_images_cifar10, labels=valid_labels_cifar10,\n",
        "                                p = 0.5, delay_length = 5)\n",
        "\n",
        "dmts_loader_valid = DataLoader(dmts_dataset_valid, batch_size=32, shuffle=True)\n",
        "\n",
        "n_images_to_show = 5\n",
        "for sequences, labels in dmts_loader_valid:\n",
        "    for i in range(n_images_to_show):\n",
        "        show_sequence(sequences[i], labels[i])\n",
        "    break  # Only process the first batch"
      ]
    },
    {
      "cell_type": "markdown",
      "metadata": {
        "id": "-p8SvEFDkEZt"
      },
      "source": [
        "## 2. Model design\n",
        "\n",
        "Task 1 consists on a DMTS > Default delay-match to sample. To implement this, the following elements need to be included in the architecture:\n",
        "\n",
        "- Recurrent Connectivity : to retain information over arbitrary periods\n",
        "- CNN : feature extraction from images\n",
        "- Adaptation for variable delay: need to handle a delay between sample and test images\n"
      ]
    },
    {
      "cell_type": "code",
      "execution_count": 8,
      "metadata": {
        "id": "LT0-MnRIkEZt",
        "outputId": "b13db8c0-24ea-475a-d81d-5153f7677fbb",
        "colab": {
          "base_uri": "https://localhost:8080/"
        }
      },
      "outputs": [
        {
          "output_type": "stream",
          "name": "stdout",
          "text": [
            "DMTSModel(\n",
            "  (conv1): Conv2d(3, 32, kernel_size=(3, 3), stride=(1, 1), padding=(1, 1))\n",
            "  (conv2): Conv2d(32, 64, kernel_size=(3, 3), stride=(1, 1), padding=(1, 1))\n",
            "  (lstm): LSTM(4096, 128, batch_first=True)\n",
            "  (fc): Linear(in_features=128, out_features=1, bias=True)\n",
            ")\n"
          ]
        }
      ],
      "source": [
        "class DMTSModel(nn.Module):\n",
        "    def __init__(self, num_classes=1):\n",
        "        # Num_classes 1 because this is a binary classification problem\n",
        "        ####\n",
        "\n",
        "        super(DMTSModel, self).__init__()\n",
        "        # Convolutional layers\n",
        "        self.conv1 = nn.Conv2d(in_channels=3, out_channels=32, kernel_size=3, padding=1)\n",
        "        self.conv2 = nn.Conv2d(in_channels=32, out_channels=64, kernel_size=3, padding=1)\n",
        "        # Recurrent layer\n",
        "        self.lstm = nn.LSTM(input_size=64 * 8 * 8, hidden_size=128, batch_first=True)\n",
        "        # Fully connected layer for classification\n",
        "        self.fc = nn.Linear(in_features=128, out_features=num_classes)\n",
        "\n",
        "    def forward(self, x):\n",
        "        # x shape: (batch, time_steps, channels, height, width)\n",
        "        batch_size, time_steps, C, H, W = x.size()\n",
        "        # Flatten time steps into batch dimension\n",
        "        c_in = x.view(batch_size * time_steps, C, H, W)\n",
        "        # Convolutional layers with activation and pooling\n",
        "        c_out = F.relu(F.max_pool2d(self.conv1(c_in), 2))\n",
        "        c_out = F.relu(F.max_pool2d(self.conv2(c_out), 2))\n",
        "        # Prepare output for LSTM\n",
        "        r_in = c_out.view(batch_size, time_steps, -1)\n",
        "        # LSTM layer\n",
        "        r_out, (h_n, h_c) = self.lstm(r_in)\n",
        "        # We take the output of the last LSTM step\n",
        "        r_out2 = r_out[:, -1, :]\n",
        "        # Fully connected layer\n",
        "        out = self.fc(r_out2)\n",
        "        return out\n",
        "\n",
        "# Assuming CIFAR-10 image size 32x32x3\n",
        "model = DMTSModel(num_classes=1)\n",
        "\n",
        "print(model)\n"
      ]
    },
    {
      "cell_type": "markdown",
      "metadata": {
        "id": "j_eUrySvkEZu"
      },
      "source": [
        "## 3. Training loop\n",
        "\n",
        "Now that the data is prepared and the model architecture is defined, let us define the training loop to show to the model"
      ]
    },
    {
      "cell_type": "code",
      "execution_count": 19,
      "metadata": {
        "id": "f3hm1l05kEZu"
      },
      "outputs": [],
      "source": []
    },
    {
      "cell_type": "code",
      "execution_count": 13,
      "metadata": {
        "id": "VT1TZ8orkEZu",
        "outputId": "14288341-de90-4f00-d57f-90414d811c6b",
        "colab": {
          "base_uri": "https://localhost:8080/"
        }
      },
      "outputs": [
        {
          "output_type": "execute_result",
          "data": {
            "text/plain": [
              "device(type='cpu')"
            ]
          },
          "metadata": {},
          "execution_count": 13
        }
      ],
      "source": [
        "# Define Loss function and optimizer\n",
        "criterion = nn.BCEWithLogitsLoss()  # binary classification: match or not match\n",
        "optimizer = optim.Adam(model.parameters(), lr=0.01)\n",
        "device = torch.device(\"cuda\" if torch.cuda.is_available() else \"cpu\")\n",
        "device"
      ]
    },
    {
      "cell_type": "code",
      "execution_count": null,
      "metadata": {
        "id": "TmYPRnjxkEZu",
        "outputId": "35aeb0bd-aa9f-43b0-ba1e-0f1cff7c811e"
      },
      "outputs": [
        {
          "name": "stderr",
          "output_type": "stream",
          "text": [
            "100%|██████████| 313/313 [01:00<00:00,  5.18it/s]\n"
          ]
        },
        {
          "name": "stdout",
          "output_type": "stream",
          "text": [
            "Epoch 1, Loss: 0.6959447163743333\n"
          ]
        },
        {
          "name": "stderr",
          "output_type": "stream",
          "text": [
            "100%|██████████| 313/313 [00:58<00:00,  5.36it/s]\n"
          ]
        },
        {
          "name": "stdout",
          "output_type": "stream",
          "text": [
            "Epoch 2, Loss: 0.6979460950476674\n"
          ]
        },
        {
          "name": "stderr",
          "output_type": "stream",
          "text": [
            "100%|██████████| 313/313 [00:59<00:00,  5.30it/s]\n"
          ]
        },
        {
          "name": "stdout",
          "output_type": "stream",
          "text": [
            "Epoch 3, Loss: 0.6956771054206946\n"
          ]
        },
        {
          "name": "stderr",
          "output_type": "stream",
          "text": [
            "100%|██████████| 313/313 [01:00<00:00,  5.21it/s]\n"
          ]
        },
        {
          "name": "stdout",
          "output_type": "stream",
          "text": [
            "Epoch 4, Loss: 0.6953686464327974\n"
          ]
        },
        {
          "name": "stderr",
          "output_type": "stream",
          "text": [
            "100%|██████████| 313/313 [00:57<00:00,  5.41it/s]"
          ]
        },
        {
          "name": "stdout",
          "output_type": "stream",
          "text": [
            "Epoch 5, Loss: 0.6952519774817811\n"
          ]
        },
        {
          "name": "stderr",
          "output_type": "stream",
          "text": [
            "\n"
          ]
        }
      ],
      "source": [
        "num_epochs = 5  # Define the number of epochs\n",
        "\n",
        "for epoch in range(num_epochs):\n",
        "    running_loss = 0.0\n",
        "    for sequences, labels in tqdm.tqdm(dmts_loader_training):\n",
        "        optimizer.zero_grad()  # Zero the parameter gradients\n",
        "\n",
        "        # Forward pass\n",
        "        outputs = model(sequences)\n",
        "        loss = criterion(outputs, labels.view(-1, 1))  # Adjust label shape if necessary\n",
        "\n",
        "        # Backward pass and optimize\n",
        "        loss.backward()\n",
        "        optimizer.step()\n",
        "\n",
        "        running_loss += loss.item()\n",
        "\n",
        "    # Print statistics\n",
        "    print(f'Epoch {epoch + 1}, Loss: {running_loss / len(dmts_loader_training)}')\n"
      ]
    },
    {
      "cell_type": "markdown",
      "metadata": {
        "id": "2Oe4n3PdkEZu"
      },
      "source": [
        "## 4. Model validation\n",
        "Once the different models are trained, let's evaluate their performance"
      ]
    },
    {
      "cell_type": "code",
      "execution_count": 9,
      "metadata": {
        "id": "LbjSO3TPkEZu"
      },
      "outputs": [],
      "source": [
        "def validate_model(model, val_loader, criterion):\n",
        "    model.eval()  # Set the model to evaluation mode\n",
        "    val_loss = 0.0\n",
        "    correct_predictions = 0\n",
        "    total_predictions = 0\n",
        "\n",
        "    device = torch.device(\"cuda\" if torch.cuda.is_available() else \"cpu\")\n",
        "\n",
        "    with torch.no_grad():  # Disable gradient computation\n",
        "        for sequences, labels in val_loader:\n",
        "            sequences, labels = sequences.to(device), labels.to(device)\n",
        "\n",
        "\n",
        "            outputs = model(sequences)\n",
        "            loss = criterion(outputs, labels.view(-1, 1))\n",
        "            val_loss += loss.item()\n",
        "\n",
        "            # Convert outputs to binary predictions\n",
        "            predicted = outputs.round()  # or use a threshold if needed\n",
        "            correct_predictions += (predicted == labels.view(-1, 1)).sum().item()\n",
        "            total_predictions += labels.size(0)\n",
        "\n",
        "    avg_val_loss = val_loss / len(val_loader)\n",
        "    accuracy = correct_predictions / total_predictions\n",
        "    return avg_val_loss, accuracy"
      ]
    },
    {
      "cell_type": "code",
      "execution_count": 15,
      "metadata": {
        "id": "p9-eo_l5kEZu",
        "outputId": "6f9dcb48-fe1c-48ac-8e37-c7a1731a9a03",
        "colab": {
          "base_uri": "https://localhost:8080/",
          "height": 211
        }
      },
      "outputs": [
        {
          "output_type": "error",
          "ename": "NameError",
          "evalue": "name 'dmts_loader_valid' is not defined",
          "traceback": [
            "\u001b[0;31m---------------------------------------------------------------------------\u001b[0m",
            "\u001b[0;31mNameError\u001b[0m                                 Traceback (most recent call last)",
            "\u001b[0;32m<ipython-input-15-20dfc98585c0>\u001b[0m in \u001b[0;36m<cell line: 1>\u001b[0;34m()\u001b[0m\n\u001b[0;32m----> 1\u001b[0;31m \u001b[0mval_loader\u001b[0m \u001b[0;34m=\u001b[0m \u001b[0mdmts_loader_valid\u001b[0m\u001b[0;34m\u001b[0m\u001b[0;34m\u001b[0m\u001b[0m\n\u001b[0m\u001b[1;32m      2\u001b[0m \u001b[0mval_loss\u001b[0m\u001b[0;34m,\u001b[0m \u001b[0mval_accuracy\u001b[0m \u001b[0;34m=\u001b[0m \u001b[0mvalidate_model\u001b[0m\u001b[0;34m(\u001b[0m\u001b[0mmodel\u001b[0m\u001b[0;34m,\u001b[0m \u001b[0mval_loader\u001b[0m\u001b[0;34m,\u001b[0m \u001b[0mcriterion\u001b[0m\u001b[0;34m)\u001b[0m\u001b[0;34m\u001b[0m\u001b[0;34m\u001b[0m\u001b[0m\n\u001b[1;32m      3\u001b[0m \u001b[0mprint\u001b[0m\u001b[0;34m(\u001b[0m\u001b[0;34mf'Validation Loss: {val_loss:.4f}, Validation Accuracy: {val_accuracy:.4f}'\u001b[0m\u001b[0;34m)\u001b[0m\u001b[0;34m\u001b[0m\u001b[0;34m\u001b[0m\u001b[0m\n",
            "\u001b[0;31mNameError\u001b[0m: name 'dmts_loader_valid' is not defined"
          ]
        }
      ],
      "source": [
        "val_loader = dmts_loader_valid\n",
        "val_loss, val_accuracy = validate_model(model, val_loader, criterion)\n",
        "print(f'Validation Loss: {val_loss:.4f}, Validation Accuracy: {val_accuracy:.4f}')\n"
      ]
    },
    {
      "cell_type": "markdown",
      "metadata": {
        "id": "Nm0M4fUQkEZv"
      },
      "source": [
        "### 5. Produce various configurations and try to obtain various results\n",
        "\n",
        "Produce the results for :\n",
        "1) Different size of the empty images\n",
        "2) Vary the test image: from same class to different class\n",
        "3) Vary the architecture\n",
        "4) Add a pretrained network and then Recurrent LTSM on top"
      ]
    },
    {
      "cell_type": "code",
      "execution_count": 10,
      "metadata": {
        "id": "AaYQW5-YkEZv"
      },
      "outputs": [],
      "source": [
        "# def training_and_validation_loop (optimizer, dmts_loader_training, model, criterion, dmts_loader_valid):\n",
        "#     num_epochs = 5  # Define the number of epochs\n",
        "\n",
        "#     for epoch in range(num_epochs):\n",
        "#         running_loss = 0.0\n",
        "#         for sequences, labels in tqdm.tqdm(dmts_loader_training):\n",
        "#             optimizer.zero_grad()  # Zero the parameter gradients\n",
        "\n",
        "#             # Forward pass\n",
        "#             outputs = model(sequences)\n",
        "#             loss = criterion(outputs, labels.view(-1, 1))  # Adjust label shape if necessary\n",
        "\n",
        "#             # Backward pass and optimize\n",
        "#             loss.backward()\n",
        "#             optimizer.step()\n",
        "\n",
        "#             running_loss += loss.item()\n",
        "\n",
        "#         # Print statistics\n",
        "#         print(f'Epoch {epoch + 1}, Loss: {running_loss / len(dmts_loader_training)}')\n",
        "\n",
        "#     val_loader = dmts_loader_valid\n",
        "#     val_loss, val_accuracy = validate_model(model, val_loader, criterion)\n",
        "#     print(f'Validation Loss: {val_loss:.4f}, Validation Accuracy: {val_accuracy:.4f}')\n"
      ]
    },
    {
      "cell_type": "code",
      "source": [
        "def training_and_validation_loop(optimizer, train_loader, model, criterion, valid_loader, number_of_epochs = 5):\n",
        "    device = torch.device(\"cuda\" if torch.cuda.is_available() else \"cpu\")\n",
        "    print(\"Using device:\", device)\n",
        "    model.to(device)\n",
        "\n",
        "    model.train()  # Set model to training mode\n",
        "    for epoch in range(number_of_epochs):  # Replace with your number of epochs\n",
        "        running_loss = 0.0\n",
        "        for batch in tqdm.tqdm(train_loader):\n",
        "            images, labels = batch\n",
        "            images, labels = images.to(device), labels.to(device)  # Move data to GPU\n",
        "\n",
        "            # Forward pass\n",
        "            outputs = model(images)\n",
        "            loss = criterion(outputs, labels)\n",
        "\n",
        "            # Backward and optimize\n",
        "            optimizer.zero_grad()\n",
        "            loss.backward()\n",
        "            optimizer.step()\n",
        "\n",
        "            running_loss += loss.item()\n",
        "        # Print statistics\n",
        "        print(f'Epoch {epoch + 1}, Loss: {running_loss / len(dmts_loader_training)}')\n",
        "\n",
        "    val_loader = dmts_loader_valid\n",
        "    val_loss, val_accuracy = validate_model(model, val_loader, criterion)\n",
        "    print(f'Validation Loss: {val_loss:.4f}, Validation Accuracy: {val_accuracy:.4f}')"
      ],
      "metadata": {
        "id": "KO2LiRKZoReM"
      },
      "execution_count": 12,
      "outputs": []
    },
    {
      "cell_type": "markdown",
      "metadata": {
        "id": "Euvwx94UkEZv"
      },
      "source": [
        "### 5.1. Sizes of distractor: 1,3,5,10"
      ]
    },
    {
      "cell_type": "code",
      "source": [
        "class EnhancedDMTSModel(nn.Module):\n",
        "    def __init__(self, num_classes=1):\n",
        "        super(EnhancedDMTSModel, self).__init__()\n",
        "        # Enhanced Convolutional Layers\n",
        "        self.conv1 = nn.Conv2d(3, 32, kernel_size=3, padding=1)\n",
        "        self.bn1 = nn.BatchNorm2d(32)\n",
        "        self.conv2 = nn.Conv2d(32, 64, kernel_size=3, padding=1)\n",
        "        self.bn2 = nn.BatchNorm2d(64)\n",
        "        self.conv3 = nn.Conv2d(64, 128, kernel_size=3, padding=1) # New layer\n",
        "        self.bn3 = nn.BatchNorm2d(128) # New layer\n",
        "        # Recurrent layer with modifications\n",
        "        self.lstm = nn.LSTM(input_size=128 * 4 * 4, hidden_size=256, batch_first=True) # Adjusted sizes\n",
        "        # Fully connected layer for classification\n",
        "        self.fc1 = nn.Linear(256, 128) # New layer\n",
        "        self.fc2 = nn.Linear(128, num_classes)\n",
        "\n",
        "    def forward(self, x):\n",
        "        batch_size, time_steps, C, H, W = x.size()\n",
        "        # Extract the first and last image from the sequence\n",
        "        img1, img2 = x[:, 0, :, :, :], x[:, -1, :, :, :]\n",
        "\n",
        "        # Process each image through the convolutional and recurrent layers\n",
        "        def process_image(img):\n",
        "            c_in = img.view(batch_size, C, H, W)\n",
        "            c_out = F.relu(self.bn1(F.max_pool2d(self.conv1(c_in), 2)))\n",
        "            c_out = F.relu(self.bn2(F.max_pool2d(self.conv2(c_out), 2)))\n",
        "            c_out = F.relu(self.bn3(F.max_pool2d(self.conv3(c_out), 2)))\n",
        "            r_in = c_out.view(batch_size, -1)  # Adjusting for LSTM input\n",
        "            r_out, _ = self.lstm(r_in.unsqueeze(1))  # LSTM expects 3D input [batch, time, feature]\n",
        "            return r_out[:, -1, :]  # Taking the output of the last LSTM unit\n",
        "\n",
        "        feature1 = process_image(img1)\n",
        "        feature2 = process_image(img2)\n",
        "\n",
        "        # Combine features from both images and classify\n",
        "        combined_features = torch.cat((feature1, feature2), 1)\n",
        "        fc = F.relu(self.fc1(combined_features))\n",
        "        out = self.fc2(fc)\n",
        "        return out\n",
        "\n",
        "# Assuming CIFAR-10 image size 32x32x3\n",
        "model = EnhancedDMTSModel(num_classes=1)\n",
        "print(model)\n"
      ],
      "metadata": {
        "id": "9w7uGXUwuMp1",
        "outputId": "1c851a77-8431-4c51-a7ef-4a570a261979",
        "colab": {
          "base_uri": "https://localhost:8080/"
        }
      },
      "execution_count": 13,
      "outputs": [
        {
          "output_type": "stream",
          "name": "stdout",
          "text": [
            "EnhancedDMTSModel(\n",
            "  (conv1): Conv2d(3, 32, kernel_size=(3, 3), stride=(1, 1), padding=(1, 1))\n",
            "  (bn1): BatchNorm2d(32, eps=1e-05, momentum=0.1, affine=True, track_running_stats=True)\n",
            "  (conv2): Conv2d(32, 64, kernel_size=(3, 3), stride=(1, 1), padding=(1, 1))\n",
            "  (bn2): BatchNorm2d(64, eps=1e-05, momentum=0.1, affine=True, track_running_stats=True)\n",
            "  (conv3): Conv2d(64, 128, kernel_size=(3, 3), stride=(1, 1), padding=(1, 1))\n",
            "  (bn3): BatchNorm2d(128, eps=1e-05, momentum=0.1, affine=True, track_running_stats=True)\n",
            "  (lstm): LSTM(2048, 256, batch_first=True)\n",
            "  (fc1): Linear(in_features=256, out_features=128, bias=True)\n",
            "  (fc2): Linear(in_features=128, out_features=1, bias=True)\n",
            ")\n"
          ]
        }
      ]
    },
    {
      "cell_type": "code",
      "source": [
        "import torch\n",
        "import torch.nn as nn\n",
        "from torchvision.models import resnet34\n",
        "\n",
        "class SiameseNetwork(nn.Module):\n",
        "    def __init__(self, network):\n",
        "        super(SiameseNetwork, self).__init__()\n",
        "        self.network = network  # The pretrained network\n",
        "        # Assuming the network outputs feature vectors of size 512 (for resnet34)\n",
        "        self.fc = nn.Linear(2 * 512, 1)  # Combining features from 2 images for binary classification\n",
        "\n",
        "    def forward(self, x):\n",
        "        # Expecting x to be a list of pairs of images [image1, image2]\n",
        "        img1, img2 = x[:, 0, :, :, :], x[:, -1, :, :, :]  # Extracting the first and last images from the sequence\n",
        "\n",
        "        # Pass both images through the same network (shared weights)\n",
        "        output1 = self.network(img1)\n",
        "        output2 = self.network(img2)\n",
        "\n",
        "        # Combine the two outputs and pass through the classification layer\n",
        "        combined_output = torch.cat((output1, output2), 1)\n",
        "        out = self.fc(combined_output)\n",
        "        return out\n",
        "\n",
        "# Adjust your pretrained network accordingly\n",
        "net = resnet34(pretrained=True)\n",
        "# Replace the final fully connected layer to output feature vectors\n",
        "num_ftrs = net.fc.in_features\n",
        "net.fc = nn.Linear(num_ftrs, 512)  # Adjust this number based on the feature vector size you want\n",
        "\n",
        "# Create the Siamese Network\n",
        "model_siamese = SiameseNetwork(net)\n"
      ],
      "metadata": {
        "id": "0tIvy_uBvJ8y",
        "outputId": "8e079ff9-fa60-456b-dda1-b22ece09c83a",
        "colab": {
          "base_uri": "https://localhost:8080/"
        }
      },
      "execution_count": 14,
      "outputs": [
        {
          "output_type": "stream",
          "name": "stderr",
          "text": [
            "/usr/local/lib/python3.10/dist-packages/torchvision/models/_utils.py:208: UserWarning: The parameter 'pretrained' is deprecated since 0.13 and may be removed in the future, please use 'weights' instead.\n",
            "  warnings.warn(\n",
            "/usr/local/lib/python3.10/dist-packages/torchvision/models/_utils.py:223: UserWarning: Arguments other than a weight enum or `None` for 'weights' are deprecated since 0.13 and may be removed in the future. The current behavior is equivalent to passing `weights=ResNet34_Weights.IMAGENET1K_V1`. You can also use `weights=ResNet34_Weights.DEFAULT` to get the most up-to-date weights.\n",
            "  warnings.warn(msg)\n"
          ]
        }
      ]
    },
    {
      "cell_type": "code",
      "source": [
        "training_and_validation_loop"
      ],
      "metadata": {
        "id": "QZCT2CsAyCac",
        "outputId": "c1a8faf6-1078-43fe-cca0-c7d3810a6640",
        "colab": {
          "base_uri": "https://localhost:8080/"
        }
      },
      "execution_count": 60,
      "outputs": [
        {
          "output_type": "execute_result",
          "data": {
            "text/plain": [
              "<function __main__.training_and_validation_loop(optimizer, train_loader, model, criterion, valid_loader, number_of_epochs=5)>"
            ]
          },
          "metadata": {},
          "execution_count": 60
        }
      ]
    },
    {
      "cell_type": "code",
      "source": [
        "import torch\n",
        "import torch.nn as nn\n",
        "from torchvision.models import resnet18\n",
        "\n",
        "class SiameseNetwork(nn.Module):\n",
        "    def __init__(self):\n",
        "        super(SiameseNetwork, self).__init__()\n",
        "        # Use a pre-trained ResNet, but remove the final fully connected layer\n",
        "        self.feature_extractor = nn.Sequential(*list(resnet18(pretrained=True).children())[:-1])\n",
        "        # Embedding layer\n",
        "        self.embedding_layer = nn.Linear(512, 256)  # Assuming ResNet18 and Global Average Pooling\n",
        "        # Classification layer\n",
        "        self.classification_layer = nn.Linear(256, 1)\n",
        "\n",
        "    def forward(self, sequence):\n",
        "        # Process the first and last images to get their embeddings\n",
        "        img1, img2 = sequence[:, 0, :, :, :], sequence[:, -1, :, :, :]\n",
        "        emb1 = self.get_embedding(img1)\n",
        "        emb2 = self.get_embedding(img2)\n",
        "        # Calculate the similarity between the embeddings\n",
        "        similarity = torch.abs(emb1 - emb2)\n",
        "        # Classify if the images are the same or not\n",
        "        classification = torch.sigmoid(self.classification_layer(similarity))\n",
        "        return classification\n",
        "\n",
        "    def get_embedding(self, x):\n",
        "        # Get the global pooled features\n",
        "        features = self.feature_extractor(x)\n",
        "        features = features.view(features.size(0), -1)  # Flatten the features\n",
        "        # Get the embedding\n",
        "        embedding = self.embedding_layer(features)\n",
        "        return embedding\n"
      ],
      "metadata": {
        "id": "ikNc24X_2Eoi"
      },
      "execution_count": 25,
      "outputs": []
    },
    {
      "cell_type": "code",
      "execution_count": 28,
      "metadata": {
        "id": "gr60jmy2kEZv",
        "outputId": "43191ca2-80d4-411b-c239-b7716913700c",
        "colab": {
          "base_uri": "https://localhost:8080/"
        }
      },
      "outputs": [
        {
          "output_type": "stream",
          "name": "stdout",
          "text": [
            "Using device: cuda\n"
          ]
        },
        {
          "output_type": "stream",
          "name": "stderr",
          "text": [
            "100%|██████████| 313/313 [00:29<00:00, 10.71it/s]\n"
          ]
        },
        {
          "output_type": "stream",
          "name": "stdout",
          "text": [
            "Epoch 1, Loss: 0.7289799969798079\n"
          ]
        },
        {
          "output_type": "stream",
          "name": "stderr",
          "text": [
            "100%|██████████| 313/313 [00:29<00:00, 10.44it/s]\n"
          ]
        },
        {
          "output_type": "stream",
          "name": "stdout",
          "text": [
            "Epoch 2, Loss: 0.7322386975486439\n"
          ]
        },
        {
          "output_type": "stream",
          "name": "stderr",
          "text": [
            "100%|██████████| 313/313 [00:28<00:00, 10.94it/s]\n"
          ]
        },
        {
          "output_type": "stream",
          "name": "stdout",
          "text": [
            "Epoch 3, Loss: 0.7276040643167953\n"
          ]
        },
        {
          "output_type": "stream",
          "name": "stderr",
          "text": [
            "100%|██████████| 313/313 [00:29<00:00, 10.64it/s]\n"
          ]
        },
        {
          "output_type": "stream",
          "name": "stdout",
          "text": [
            "Epoch 4, Loss: 0.7315942694584783\n"
          ]
        },
        {
          "output_type": "stream",
          "name": "stderr",
          "text": [
            "100%|██████████| 313/313 [00:29<00:00, 10.62it/s]\n"
          ]
        },
        {
          "output_type": "stream",
          "name": "stdout",
          "text": [
            "Epoch 5, Loss: 0.7288185893156277\n"
          ]
        },
        {
          "output_type": "stream",
          "name": "stderr",
          "text": [
            "100%|██████████| 313/313 [00:29<00:00, 10.60it/s]\n"
          ]
        },
        {
          "output_type": "stream",
          "name": "stdout",
          "text": [
            "Epoch 6, Loss: 0.7288647244532649\n"
          ]
        },
        {
          "output_type": "stream",
          "name": "stderr",
          "text": [
            "100%|██████████| 313/313 [00:29<00:00, 10.78it/s]\n"
          ]
        },
        {
          "output_type": "stream",
          "name": "stdout",
          "text": [
            "Epoch 7, Loss: 0.7327884747959174\n"
          ]
        },
        {
          "output_type": "stream",
          "name": "stderr",
          "text": [
            "100%|██████████| 313/313 [00:29<00:00, 10.65it/s]\n"
          ]
        },
        {
          "output_type": "stream",
          "name": "stdout",
          "text": [
            "Epoch 8, Loss: 0.7325119469493342\n"
          ]
        },
        {
          "output_type": "stream",
          "name": "stderr",
          "text": [
            "100%|██████████| 313/313 [00:29<00:00, 10.72it/s]\n"
          ]
        },
        {
          "output_type": "stream",
          "name": "stdout",
          "text": [
            "Epoch 9, Loss: 0.7254010878812772\n"
          ]
        },
        {
          "output_type": "stream",
          "name": "stderr",
          "text": [
            "100%|██████████| 313/313 [00:29<00:00, 10.75it/s]\n"
          ]
        },
        {
          "output_type": "stream",
          "name": "stdout",
          "text": [
            "Epoch 10, Loss: 0.7286451443696556\n"
          ]
        },
        {
          "output_type": "stream",
          "name": "stderr",
          "text": [
            "100%|██████████| 313/313 [00:28<00:00, 10.82it/s]\n"
          ]
        },
        {
          "output_type": "stream",
          "name": "stdout",
          "text": [
            "Epoch 11, Loss: 0.7323426891820499\n"
          ]
        },
        {
          "output_type": "stream",
          "name": "stderr",
          "text": [
            "100%|██████████| 313/313 [00:28<00:00, 11.00it/s]\n"
          ]
        },
        {
          "output_type": "stream",
          "name": "stdout",
          "text": [
            "Epoch 12, Loss: 0.7295703834619004\n"
          ]
        },
        {
          "output_type": "stream",
          "name": "stderr",
          "text": [
            "100%|██████████| 313/313 [00:29<00:00, 10.73it/s]\n"
          ]
        },
        {
          "output_type": "stream",
          "name": "stdout",
          "text": [
            "Epoch 13, Loss: 0.7288155344347603\n"
          ]
        },
        {
          "output_type": "stream",
          "name": "stderr",
          "text": [
            "100%|██████████| 313/313 [00:29<00:00, 10.55it/s]\n"
          ]
        },
        {
          "output_type": "stream",
          "name": "stdout",
          "text": [
            "Epoch 14, Loss: 0.7353511047058593\n"
          ]
        },
        {
          "output_type": "stream",
          "name": "stderr",
          "text": [
            "100%|██████████| 313/313 [00:28<00:00, 10.90it/s]\n"
          ]
        },
        {
          "output_type": "stream",
          "name": "stdout",
          "text": [
            "Epoch 15, Loss: 0.7298067337788713\n"
          ]
        },
        {
          "output_type": "stream",
          "name": "stderr",
          "text": [
            "100%|██████████| 313/313 [00:28<00:00, 11.00it/s]\n"
          ]
        },
        {
          "output_type": "stream",
          "name": "stdout",
          "text": [
            "Epoch 16, Loss: 0.7257051336498687\n"
          ]
        },
        {
          "output_type": "stream",
          "name": "stderr",
          "text": [
            "100%|██████████| 313/313 [00:28<00:00, 10.81it/s]\n"
          ]
        },
        {
          "output_type": "stream",
          "name": "stdout",
          "text": [
            "Epoch 17, Loss: 0.7278756918236852\n"
          ]
        },
        {
          "output_type": "stream",
          "name": "stderr",
          "text": [
            "100%|██████████| 313/313 [00:29<00:00, 10.64it/s]\n"
          ]
        },
        {
          "output_type": "stream",
          "name": "stdout",
          "text": [
            "Epoch 18, Loss: 0.7289865961470924\n"
          ]
        },
        {
          "output_type": "stream",
          "name": "stderr",
          "text": [
            "100%|██████████| 313/313 [00:29<00:00, 10.71it/s]\n"
          ]
        },
        {
          "output_type": "stream",
          "name": "stdout",
          "text": [
            "Epoch 19, Loss: 0.7284502998327675\n"
          ]
        },
        {
          "output_type": "stream",
          "name": "stderr",
          "text": [
            "100%|██████████| 313/313 [00:28<00:00, 10.94it/s]\n"
          ]
        },
        {
          "output_type": "stream",
          "name": "stdout",
          "text": [
            "Epoch 20, Loss: 0.7231826123338156\n",
            "Validation Loss: 0.7320, Validation Accuracy: 0.6859\n"
          ]
        }
      ],
      "source": [
        "criterion = nn.BCEWithLogitsLoss()  # binary classification: match or not match\n",
        "optimizer = optim.Adam(model.parameters(), lr=0.001)\n",
        "model = DMTSModel(num_classes=1)\n",
        "\n",
        "model_siamese = SiameseNetwork()\n",
        "\n",
        "# change dmts_model_training\n",
        "dmts_dataset_training_delay_1 = DMTSCIFAR10Dataset(data=training_images_cifar10[1], labels=training_labels_cifar10[1],\n",
        "                                p = 0.5, delay_length = 1)\n",
        "\n",
        "# dmts_dataset_training_delay_1 = DMTSCIFAR10Dataset(data=all_training_images_cifar10, labels=all_training_labels_cifar10,\n",
        "#                                 p = 0.5, delay_length = 1) ## all the training data\n",
        "\n",
        "dmts_loader_training_delay_1 = DataLoader(dmts_dataset_training_delay_1, batch_size=32, shuffle=True)\n",
        "training_and_validation_loop (optimizer = optimizer, train_loader = dmts_loader_training_delay_1, model = model_siamese, criterion=criterion, valid_loader=dmts_loader_valid,\n",
        "                              number_of_epochs = 20)\n",
        "\n",
        "# training_and_validation_loop (optimizer = optimizer, train_loader = dmts_loader_training_delay_1, model = model, criterion=criterion, valid_loader=dmts_loader_training_delay_1)"
      ]
    },
    {
      "cell_type": "code",
      "execution_count": 21,
      "metadata": {
        "id": "anijwuUUkEZv",
        "outputId": "b8136694-2315-4e4a-873f-a187fdc1c515",
        "colab": {
          "base_uri": "https://localhost:8080/",
          "height": 408
        }
      },
      "outputs": [
        {
          "output_type": "stream",
          "name": "stdout",
          "text": [
            "Using device: cuda\n"
          ]
        },
        {
          "output_type": "stream",
          "name": "stderr",
          "text": [
            "  0%|          | 0/313 [00:00<?, ?it/s]\n"
          ]
        },
        {
          "output_type": "error",
          "ename": "RuntimeError",
          "evalue": "mat1 and mat2 shapes cannot be multiplied (32x512 and 256x128)",
          "traceback": [
            "\u001b[0;31m---------------------------------------------------------------------------\u001b[0m",
            "\u001b[0;31mRuntimeError\u001b[0m                              Traceback (most recent call last)",
            "\u001b[0;32m<ipython-input-21-876117acddea>\u001b[0m in \u001b[0;36m<cell line: 11>\u001b[0;34m()\u001b[0m\n\u001b[1;32m      9\u001b[0m \u001b[0mdmts_loader_training_delay_0\u001b[0m \u001b[0;34m=\u001b[0m \u001b[0mDataLoader\u001b[0m\u001b[0;34m(\u001b[0m\u001b[0mdmts_dataset_training_delay_0\u001b[0m\u001b[0;34m,\u001b[0m \u001b[0mbatch_size\u001b[0m\u001b[0;34m=\u001b[0m\u001b[0;36m32\u001b[0m\u001b[0;34m,\u001b[0m \u001b[0mshuffle\u001b[0m\u001b[0;34m=\u001b[0m\u001b[0;32mTrue\u001b[0m\u001b[0;34m)\u001b[0m\u001b[0;34m\u001b[0m\u001b[0;34m\u001b[0m\u001b[0m\n\u001b[1;32m     10\u001b[0m \u001b[0;34m\u001b[0m\u001b[0m\n\u001b[0;32m---> 11\u001b[0;31m \u001b[0mtraining_and_validation_loop\u001b[0m \u001b[0;34m(\u001b[0m\u001b[0moptimizer\u001b[0m\u001b[0;34m,\u001b[0m \u001b[0mdmts_loader_training_delay_0\u001b[0m\u001b[0;34m,\u001b[0m \u001b[0mmodel\u001b[0m \u001b[0;34m=\u001b[0m \u001b[0mmodel\u001b[0m\u001b[0;34m,\u001b[0m \u001b[0mcriterion\u001b[0m \u001b[0;34m=\u001b[0m \u001b[0mcriterion\u001b[0m\u001b[0;34m,\u001b[0m \u001b[0mvalid_loader\u001b[0m\u001b[0;34m=\u001b[0m\u001b[0mdmts_loader_valid\u001b[0m\u001b[0;34m)\u001b[0m\u001b[0;34m\u001b[0m\u001b[0;34m\u001b[0m\u001b[0m\n\u001b[0m",
            "\u001b[0;32m<ipython-input-12-8d906a0372a2>\u001b[0m in \u001b[0;36mtraining_and_validation_loop\u001b[0;34m(optimizer, train_loader, model, criterion, valid_loader, number_of_epochs)\u001b[0m\n\u001b[1;32m     12\u001b[0m \u001b[0;34m\u001b[0m\u001b[0m\n\u001b[1;32m     13\u001b[0m             \u001b[0;31m# Forward pass\u001b[0m\u001b[0;34m\u001b[0m\u001b[0;34m\u001b[0m\u001b[0m\n\u001b[0;32m---> 14\u001b[0;31m             \u001b[0moutputs\u001b[0m \u001b[0;34m=\u001b[0m \u001b[0mmodel\u001b[0m\u001b[0;34m(\u001b[0m\u001b[0mimages\u001b[0m\u001b[0;34m)\u001b[0m\u001b[0;34m\u001b[0m\u001b[0;34m\u001b[0m\u001b[0m\n\u001b[0m\u001b[1;32m     15\u001b[0m             \u001b[0mloss\u001b[0m \u001b[0;34m=\u001b[0m \u001b[0mcriterion\u001b[0m\u001b[0;34m(\u001b[0m\u001b[0moutputs\u001b[0m\u001b[0;34m,\u001b[0m \u001b[0mlabels\u001b[0m\u001b[0;34m)\u001b[0m\u001b[0;34m\u001b[0m\u001b[0;34m\u001b[0m\u001b[0m\n\u001b[1;32m     16\u001b[0m \u001b[0;34m\u001b[0m\u001b[0m\n",
            "\u001b[0;32m/usr/local/lib/python3.10/dist-packages/torch/nn/modules/module.py\u001b[0m in \u001b[0;36m_wrapped_call_impl\u001b[0;34m(self, *args, **kwargs)\u001b[0m\n\u001b[1;32m   1516\u001b[0m             \u001b[0;32mreturn\u001b[0m \u001b[0mself\u001b[0m\u001b[0;34m.\u001b[0m\u001b[0m_compiled_call_impl\u001b[0m\u001b[0;34m(\u001b[0m\u001b[0;34m*\u001b[0m\u001b[0margs\u001b[0m\u001b[0;34m,\u001b[0m \u001b[0;34m**\u001b[0m\u001b[0mkwargs\u001b[0m\u001b[0;34m)\u001b[0m  \u001b[0;31m# type: ignore[misc]\u001b[0m\u001b[0;34m\u001b[0m\u001b[0;34m\u001b[0m\u001b[0m\n\u001b[1;32m   1517\u001b[0m         \u001b[0;32melse\u001b[0m\u001b[0;34m:\u001b[0m\u001b[0;34m\u001b[0m\u001b[0;34m\u001b[0m\u001b[0m\n\u001b[0;32m-> 1518\u001b[0;31m             \u001b[0;32mreturn\u001b[0m \u001b[0mself\u001b[0m\u001b[0;34m.\u001b[0m\u001b[0m_call_impl\u001b[0m\u001b[0;34m(\u001b[0m\u001b[0;34m*\u001b[0m\u001b[0margs\u001b[0m\u001b[0;34m,\u001b[0m \u001b[0;34m**\u001b[0m\u001b[0mkwargs\u001b[0m\u001b[0;34m)\u001b[0m\u001b[0;34m\u001b[0m\u001b[0;34m\u001b[0m\u001b[0m\n\u001b[0m\u001b[1;32m   1519\u001b[0m \u001b[0;34m\u001b[0m\u001b[0m\n\u001b[1;32m   1520\u001b[0m     \u001b[0;32mdef\u001b[0m \u001b[0m_call_impl\u001b[0m\u001b[0;34m(\u001b[0m\u001b[0mself\u001b[0m\u001b[0;34m,\u001b[0m \u001b[0;34m*\u001b[0m\u001b[0margs\u001b[0m\u001b[0;34m,\u001b[0m \u001b[0;34m**\u001b[0m\u001b[0mkwargs\u001b[0m\u001b[0;34m)\u001b[0m\u001b[0;34m:\u001b[0m\u001b[0;34m\u001b[0m\u001b[0;34m\u001b[0m\u001b[0m\n",
            "\u001b[0;32m/usr/local/lib/python3.10/dist-packages/torch/nn/modules/module.py\u001b[0m in \u001b[0;36m_call_impl\u001b[0;34m(self, *args, **kwargs)\u001b[0m\n\u001b[1;32m   1525\u001b[0m                 \u001b[0;32mor\u001b[0m \u001b[0m_global_backward_pre_hooks\u001b[0m \u001b[0;32mor\u001b[0m \u001b[0m_global_backward_hooks\u001b[0m\u001b[0;34m\u001b[0m\u001b[0;34m\u001b[0m\u001b[0m\n\u001b[1;32m   1526\u001b[0m                 or _global_forward_hooks or _global_forward_pre_hooks):\n\u001b[0;32m-> 1527\u001b[0;31m             \u001b[0;32mreturn\u001b[0m \u001b[0mforward_call\u001b[0m\u001b[0;34m(\u001b[0m\u001b[0;34m*\u001b[0m\u001b[0margs\u001b[0m\u001b[0;34m,\u001b[0m \u001b[0;34m**\u001b[0m\u001b[0mkwargs\u001b[0m\u001b[0;34m)\u001b[0m\u001b[0;34m\u001b[0m\u001b[0;34m\u001b[0m\u001b[0m\n\u001b[0m\u001b[1;32m   1528\u001b[0m \u001b[0;34m\u001b[0m\u001b[0m\n\u001b[1;32m   1529\u001b[0m         \u001b[0;32mtry\u001b[0m\u001b[0;34m:\u001b[0m\u001b[0;34m\u001b[0m\u001b[0;34m\u001b[0m\u001b[0m\n",
            "\u001b[0;32m<ipython-input-13-835895c7d73e>\u001b[0m in \u001b[0;36mforward\u001b[0;34m(self, x)\u001b[0m\n\u001b[1;32m     35\u001b[0m         \u001b[0;31m# Combine features from both images and classify\u001b[0m\u001b[0;34m\u001b[0m\u001b[0;34m\u001b[0m\u001b[0m\n\u001b[1;32m     36\u001b[0m         \u001b[0mcombined_features\u001b[0m \u001b[0;34m=\u001b[0m \u001b[0mtorch\u001b[0m\u001b[0;34m.\u001b[0m\u001b[0mcat\u001b[0m\u001b[0;34m(\u001b[0m\u001b[0;34m(\u001b[0m\u001b[0mfeature1\u001b[0m\u001b[0;34m,\u001b[0m \u001b[0mfeature2\u001b[0m\u001b[0;34m)\u001b[0m\u001b[0;34m,\u001b[0m \u001b[0;36m1\u001b[0m\u001b[0;34m)\u001b[0m\u001b[0;34m\u001b[0m\u001b[0;34m\u001b[0m\u001b[0m\n\u001b[0;32m---> 37\u001b[0;31m         \u001b[0mfc\u001b[0m \u001b[0;34m=\u001b[0m \u001b[0mF\u001b[0m\u001b[0;34m.\u001b[0m\u001b[0mrelu\u001b[0m\u001b[0;34m(\u001b[0m\u001b[0mself\u001b[0m\u001b[0;34m.\u001b[0m\u001b[0mfc1\u001b[0m\u001b[0;34m(\u001b[0m\u001b[0mcombined_features\u001b[0m\u001b[0;34m)\u001b[0m\u001b[0;34m)\u001b[0m\u001b[0;34m\u001b[0m\u001b[0;34m\u001b[0m\u001b[0m\n\u001b[0m\u001b[1;32m     38\u001b[0m         \u001b[0mout\u001b[0m \u001b[0;34m=\u001b[0m \u001b[0mself\u001b[0m\u001b[0;34m.\u001b[0m\u001b[0mfc2\u001b[0m\u001b[0;34m(\u001b[0m\u001b[0mfc\u001b[0m\u001b[0;34m)\u001b[0m\u001b[0;34m\u001b[0m\u001b[0;34m\u001b[0m\u001b[0m\n\u001b[1;32m     39\u001b[0m         \u001b[0;32mreturn\u001b[0m \u001b[0mout\u001b[0m\u001b[0;34m\u001b[0m\u001b[0;34m\u001b[0m\u001b[0m\n",
            "\u001b[0;32m/usr/local/lib/python3.10/dist-packages/torch/nn/modules/module.py\u001b[0m in \u001b[0;36m_wrapped_call_impl\u001b[0;34m(self, *args, **kwargs)\u001b[0m\n\u001b[1;32m   1516\u001b[0m             \u001b[0;32mreturn\u001b[0m \u001b[0mself\u001b[0m\u001b[0;34m.\u001b[0m\u001b[0m_compiled_call_impl\u001b[0m\u001b[0;34m(\u001b[0m\u001b[0;34m*\u001b[0m\u001b[0margs\u001b[0m\u001b[0;34m,\u001b[0m \u001b[0;34m**\u001b[0m\u001b[0mkwargs\u001b[0m\u001b[0;34m)\u001b[0m  \u001b[0;31m# type: ignore[misc]\u001b[0m\u001b[0;34m\u001b[0m\u001b[0;34m\u001b[0m\u001b[0m\n\u001b[1;32m   1517\u001b[0m         \u001b[0;32melse\u001b[0m\u001b[0;34m:\u001b[0m\u001b[0;34m\u001b[0m\u001b[0;34m\u001b[0m\u001b[0m\n\u001b[0;32m-> 1518\u001b[0;31m             \u001b[0;32mreturn\u001b[0m \u001b[0mself\u001b[0m\u001b[0;34m.\u001b[0m\u001b[0m_call_impl\u001b[0m\u001b[0;34m(\u001b[0m\u001b[0;34m*\u001b[0m\u001b[0margs\u001b[0m\u001b[0;34m,\u001b[0m \u001b[0;34m**\u001b[0m\u001b[0mkwargs\u001b[0m\u001b[0;34m)\u001b[0m\u001b[0;34m\u001b[0m\u001b[0;34m\u001b[0m\u001b[0m\n\u001b[0m\u001b[1;32m   1519\u001b[0m \u001b[0;34m\u001b[0m\u001b[0m\n\u001b[1;32m   1520\u001b[0m     \u001b[0;32mdef\u001b[0m \u001b[0m_call_impl\u001b[0m\u001b[0;34m(\u001b[0m\u001b[0mself\u001b[0m\u001b[0;34m,\u001b[0m \u001b[0;34m*\u001b[0m\u001b[0margs\u001b[0m\u001b[0;34m,\u001b[0m \u001b[0;34m**\u001b[0m\u001b[0mkwargs\u001b[0m\u001b[0;34m)\u001b[0m\u001b[0;34m:\u001b[0m\u001b[0;34m\u001b[0m\u001b[0;34m\u001b[0m\u001b[0m\n",
            "\u001b[0;32m/usr/local/lib/python3.10/dist-packages/torch/nn/modules/module.py\u001b[0m in \u001b[0;36m_call_impl\u001b[0;34m(self, *args, **kwargs)\u001b[0m\n\u001b[1;32m   1525\u001b[0m                 \u001b[0;32mor\u001b[0m \u001b[0m_global_backward_pre_hooks\u001b[0m \u001b[0;32mor\u001b[0m \u001b[0m_global_backward_hooks\u001b[0m\u001b[0;34m\u001b[0m\u001b[0;34m\u001b[0m\u001b[0m\n\u001b[1;32m   1526\u001b[0m                 or _global_forward_hooks or _global_forward_pre_hooks):\n\u001b[0;32m-> 1527\u001b[0;31m             \u001b[0;32mreturn\u001b[0m \u001b[0mforward_call\u001b[0m\u001b[0;34m(\u001b[0m\u001b[0;34m*\u001b[0m\u001b[0margs\u001b[0m\u001b[0;34m,\u001b[0m \u001b[0;34m**\u001b[0m\u001b[0mkwargs\u001b[0m\u001b[0;34m)\u001b[0m\u001b[0;34m\u001b[0m\u001b[0;34m\u001b[0m\u001b[0m\n\u001b[0m\u001b[1;32m   1528\u001b[0m \u001b[0;34m\u001b[0m\u001b[0m\n\u001b[1;32m   1529\u001b[0m         \u001b[0;32mtry\u001b[0m\u001b[0;34m:\u001b[0m\u001b[0;34m\u001b[0m\u001b[0;34m\u001b[0m\u001b[0m\n",
            "\u001b[0;32m/usr/local/lib/python3.10/dist-packages/torch/nn/modules/linear.py\u001b[0m in \u001b[0;36mforward\u001b[0;34m(self, input)\u001b[0m\n\u001b[1;32m    112\u001b[0m \u001b[0;34m\u001b[0m\u001b[0m\n\u001b[1;32m    113\u001b[0m     \u001b[0;32mdef\u001b[0m \u001b[0mforward\u001b[0m\u001b[0;34m(\u001b[0m\u001b[0mself\u001b[0m\u001b[0;34m,\u001b[0m \u001b[0minput\u001b[0m\u001b[0;34m:\u001b[0m \u001b[0mTensor\u001b[0m\u001b[0;34m)\u001b[0m \u001b[0;34m->\u001b[0m \u001b[0mTensor\u001b[0m\u001b[0;34m:\u001b[0m\u001b[0;34m\u001b[0m\u001b[0;34m\u001b[0m\u001b[0m\n\u001b[0;32m--> 114\u001b[0;31m         \u001b[0;32mreturn\u001b[0m \u001b[0mF\u001b[0m\u001b[0;34m.\u001b[0m\u001b[0mlinear\u001b[0m\u001b[0;34m(\u001b[0m\u001b[0minput\u001b[0m\u001b[0;34m,\u001b[0m \u001b[0mself\u001b[0m\u001b[0;34m.\u001b[0m\u001b[0mweight\u001b[0m\u001b[0;34m,\u001b[0m \u001b[0mself\u001b[0m\u001b[0;34m.\u001b[0m\u001b[0mbias\u001b[0m\u001b[0;34m)\u001b[0m\u001b[0;34m\u001b[0m\u001b[0;34m\u001b[0m\u001b[0m\n\u001b[0m\u001b[1;32m    115\u001b[0m \u001b[0;34m\u001b[0m\u001b[0m\n\u001b[1;32m    116\u001b[0m     \u001b[0;32mdef\u001b[0m \u001b[0mextra_repr\u001b[0m\u001b[0;34m(\u001b[0m\u001b[0mself\u001b[0m\u001b[0;34m)\u001b[0m \u001b[0;34m->\u001b[0m \u001b[0mstr\u001b[0m\u001b[0;34m:\u001b[0m\u001b[0;34m\u001b[0m\u001b[0;34m\u001b[0m\u001b[0m\n",
            "\u001b[0;31mRuntimeError\u001b[0m: mat1 and mat2 shapes cannot be multiplied (32x512 and 256x128)"
          ]
        }
      ],
      "source": [
        "criterion = nn.BCEWithLogitsLoss()  # binary classification: match or not match\n",
        "optimizer = optim.Adam(model.parameters(), lr=0.001)\n",
        "model = EnhancedDMTSModel(num_classes=1)\n",
        "\n",
        "# change dmts_model_training\n",
        "dmts_dataset_training_delay_0 = DMTSCIFAR10Dataset(data=training_images_cifar10[1], labels=training_labels_cifar10[1],\n",
        "                                p = 0.5, delay_length = 0)\n",
        "\n",
        "dmts_loader_training_delay_0 = DataLoader(dmts_dataset_training_delay_0, batch_size=32, shuffle=True)\n",
        "\n",
        "training_and_validation_loop (optimizer, dmts_loader_training_delay_0, model = model, criterion = criterion, valid_loader=dmts_loader_valid)"
      ]
    },
    {
      "cell_type": "code",
      "execution_count": null,
      "metadata": {
        "id": "uciOCVkjkEZv",
        "outputId": "45ae1182-5342-4ce2-bd6e-4a25d798b048"
      },
      "outputs": [
        {
          "name": "stderr",
          "output_type": "stream",
          "text": [
            "100%|██████████| 313/313 [00:49<00:00,  6.27it/s]\n"
          ]
        },
        {
          "name": "stdout",
          "output_type": "stream",
          "text": [
            "Epoch 1, Loss: 0.693173230265657\n"
          ]
        },
        {
          "name": "stderr",
          "output_type": "stream",
          "text": [
            "100%|██████████| 313/313 [00:47<00:00,  6.53it/s]\n"
          ]
        },
        {
          "name": "stdout",
          "output_type": "stream",
          "text": [
            "Epoch 2, Loss: 0.6932396020371312\n"
          ]
        },
        {
          "name": "stderr",
          "output_type": "stream",
          "text": [
            "100%|██████████| 313/313 [00:47<00:00,  6.53it/s]\n"
          ]
        },
        {
          "name": "stdout",
          "output_type": "stream",
          "text": [
            "Epoch 3, Loss: 0.6932313857368007\n"
          ]
        },
        {
          "name": "stderr",
          "output_type": "stream",
          "text": [
            "100%|██████████| 313/313 [00:48<00:00,  6.50it/s]\n"
          ]
        },
        {
          "name": "stdout",
          "output_type": "stream",
          "text": [
            "Epoch 4, Loss: 0.6932964395410337\n"
          ]
        },
        {
          "name": "stderr",
          "output_type": "stream",
          "text": [
            "100%|██████████| 313/313 [00:48<00:00,  6.47it/s]\n"
          ]
        },
        {
          "name": "stdout",
          "output_type": "stream",
          "text": [
            "Epoch 5, Loss: 0.6930841967320671\n",
            "Validation Loss: 0.6931, Validation Accuracy: 0.4913\n"
          ]
        }
      ],
      "source": [
        "criterion = nn.BCEWithLogitsLoss()  # binary classification: match or not match\n",
        "optimizer = optim.Adam(model.parameters(), lr=0.001)\n",
        "model = DMTSModel(num_classes=1)\n",
        "\n",
        "# change dmts_model_training\n",
        "dmts_dataset_training_delay_3 = DMTSCIFAR10Dataset(data=training_images_cifar10[1], labels=training_labels_cifar10[1],\n",
        "                                p = 0.5, delay_length = 3)\n",
        "\n",
        "dmts_loader_training_delay_3 = DataLoader(dmts_dataset_training_delay_3, batch_size=32, shuffle=True)\n",
        "\n",
        "training_and_validation_loop (optimizer, dmts_loader_training_delay_3, model, criterion, dmts_loader_valid)"
      ]
    },
    {
      "cell_type": "code",
      "execution_count": null,
      "metadata": {
        "id": "HjJ1SWyakEZw",
        "outputId": "532e843c-0035-4325-fb09-b9b465ac79f1"
      },
      "outputs": [
        {
          "name": "stderr",
          "output_type": "stream",
          "text": [
            "100%|██████████| 313/313 [01:23<00:00,  3.74it/s]\n"
          ]
        },
        {
          "name": "stdout",
          "output_type": "stream",
          "text": [
            "Epoch 1, Loss: 0.6933491329034678\n"
          ]
        },
        {
          "name": "stderr",
          "output_type": "stream",
          "text": [
            "100%|██████████| 313/313 [01:19<00:00,  3.94it/s]\n"
          ]
        },
        {
          "name": "stdout",
          "output_type": "stream",
          "text": [
            "Epoch 2, Loss: 0.693106197130185\n"
          ]
        },
        {
          "name": "stderr",
          "output_type": "stream",
          "text": [
            "100%|██████████| 313/313 [01:19<00:00,  3.92it/s]\n"
          ]
        },
        {
          "name": "stdout",
          "output_type": "stream",
          "text": [
            "Epoch 3, Loss: 0.6931116841852475\n"
          ]
        },
        {
          "name": "stderr",
          "output_type": "stream",
          "text": [
            "100%|██████████| 313/313 [01:18<00:00,  3.97it/s]\n"
          ]
        },
        {
          "name": "stdout",
          "output_type": "stream",
          "text": [
            "Epoch 4, Loss: 0.693323735421458\n"
          ]
        },
        {
          "name": "stderr",
          "output_type": "stream",
          "text": [
            "100%|██████████| 313/313 [01:22<00:00,  3.81it/s]\n"
          ]
        },
        {
          "name": "stdout",
          "output_type": "stream",
          "text": [
            "Epoch 5, Loss: 0.6934995485570865\n",
            "Validation Loss: 0.6931, Validation Accuracy: 0.4929\n"
          ]
        }
      ],
      "source": [
        "criterion = nn.BCEWithLogitsLoss()  # binary classification: match or not match\n",
        "optimizer = optim.Adam(model.parameters(), lr=0.001)\n",
        "model = DMTSModel(num_classes=1)\n",
        "\n",
        "# change dmts_model_training\n",
        "dmts_dataset_training_delay_10 = DMTSCIFAR10Dataset(data=training_images_cifar10[1], labels=training_labels_cifar10[1],\n",
        "                                p = 0.5, delay_length = 10)\n",
        "\n",
        "dmts_dataset_training_delay_10 = DataLoader(dmts_dataset_training_delay_10, batch_size=32, shuffle=True)\n",
        "\n",
        "training_and_validation_loop (optimizer, dmts_dataset_training_delay_10, model, criterion, dmts_loader_valid)"
      ]
    },
    {
      "cell_type": "markdown",
      "metadata": {
        "id": "A-RFlxoukEZw"
      },
      "source": [
        "The higher the number of images between sample and test, the lower the accuracy of the model.\n",
        "\n",
        "i.e. it seems the model \"struggles\" to remember when facing distractors in between sample and test\n",
        "\n",
        "![image.png](attachment:image.png)"
      ]
    }
  ],
  "metadata": {
    "kernelspec": {
      "display_name": "Python 3",
      "name": "python3"
    },
    "language_info": {
      "codemirror_mode": {
        "name": "ipython",
        "version": 3
      },
      "file_extension": ".py",
      "mimetype": "text/x-python",
      "name": "python",
      "nbconvert_exporter": "python",
      "pygments_lexer": "ipython3",
      "version": "3.11.5"
    },
    "colab": {
      "provenance": [],
      "gpuType": "T4"
    },
    "accelerator": "GPU"
  },
  "nbformat": 4,
  "nbformat_minor": 0
}